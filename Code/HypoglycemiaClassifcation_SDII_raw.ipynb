{
 "cells": [
  {
   "cell_type": "code",
   "execution_count": null,
   "id": "0473f93c",
   "metadata": {},
   "outputs": [],
   "source": [
    "# imports\n",
    "import pandas as pd\n",
    "import os\n",
    "\n",
    "from keras import backend as K\n",
    "from sklearn.model_selection import train_test_split\n",
    "from sklearn.model_selection import GroupShuffleSplit\n",
    "from sklearn.preprocessing import StandardScaler, LabelEncoder\n",
    "from tensorflow.keras.models import Sequential\n",
    "from tensorflow.keras.layers import Conv1D, BatchNormalization, MaxPooling1D, Flatten, Dense, Dropout, Input, Activation, Add, GlobalAveragePooling1D\n",
    "from tensorflow.keras.callbacks import EarlyStopping, ModelCheckpoint, ReduceLROnPlateau\n",
    "\n",
    "import matplotlib.pyplot as plt\n",
    "from sklearn.metrics import ConfusionMatrixDisplay\n",
    "from sklearn.model_selection import train_test_split\n",
    "from sklearn.metrics import classification_report\n",
    "import random \n",
    "import numpy as np \n",
    "\n",
    "from imblearn.under_sampling import RandomUnderSampler\n",
    "\n",
    "from sklearn.model_selection import KFold\n",
    "import tensorflow as tf\n",
    "from tensorflow.keras.models import Model\n",
    "from tensorflow.keras import layers\n",
    "\n",
    "import datetime\n",
    "from datetime import timedelta\n",
    "\n",
    "import polars as pl\n",
    "\n",
    "import seaborn as sns\n",
    "\n",
    "import data_preprocessing"
   ]
  },
  {
   "cell_type": "code",
   "execution_count": null,
   "id": "d2e784fc",
   "metadata": {},
   "outputs": [],
   "source": [
    "subdatabaseII_raw = pl.read_csv('DiaData/datasets for T1D/subdatabaseII.csv').to_pandas()\n",
    "subdatabaseII_raw[\"ts\"] = pd.to_datetime(subdatabaseII_raw[\"ts\"])"
   ]
  },
  {
   "cell_type": "markdown",
   "id": "988f7844",
   "metadata": {},
   "source": [
    "## Assign classes and generate time series"
   ]
  },
  {
   "cell_type": "code",
   "execution_count": null,
   "id": "ee15f9ca",
   "metadata": {},
   "outputs": [],
   "source": [
    "# dataset with interpolated values is copied\n",
    "classes_df = subdatabaseII_raw.copy()\n",
    "# initially all classes are assigned a class -1\n",
    "classes_df[\"Class\"] = -1\n",
    "# hypoglycemic values are defined as class 0 with values equal and lower than 70 mg/dL\n",
    "classes_df.loc[classes_df[\"GlucoseCGM\"] <= 70, \"Class\"] = 0\n",
    "\n",
    "# calls the function class_generation to assing classes based on wanted intervals before hypogylcemia for each subject separately\n",
    "classes_df = classes_df.groupby(\"PtID\", group_keys=False).apply(lambda x: data_preprocessing.class_generation(x,\"ts\", 5, 15, 1)) # 5-15 min\n",
    "classes_df = classes_df.groupby(\"PtID\", group_keys=False).apply(lambda x: data_preprocessing.class_generation(x,\"ts\", 15, 30, 2)) # 15-30 min\n",
    "classes_df = classes_df.groupby(\"PtID\", group_keys=False).apply(lambda x: data_preprocessing.class_generation(x,\"ts\", 30, 60, 3))  # 30-60 min\n",
    "classes_df = classes_df.groupby(\"PtID\", group_keys=False).apply(lambda x: data_preprocessing.class_generation(x,\"ts\",  60, 125, 4)) # 1-2 h\n",
    "classes_df.loc[classes_df[\"Class\"] == -1, \"Class\"] = 5\n",
    "\n",
    "# sorts the glucose values by patient id and timestamps\n",
    "df_sorted = classes_df.sort_values(by=['PtID', 'ts'])\n",
    "# reindexes based on the sorted dataset\n",
    "df_sorted = df_sorted.reset_index(drop=True)"
   ]
  },
  {
   "cell_type": "code",
   "execution_count": 10,
   "id": "b9572872",
   "metadata": {},
   "outputs": [
    {
     "data": {
      "text/plain": [
       "Class\n",
       "5    1479624\n",
       "0      41284\n",
       "4      38681\n",
       "3      19748\n",
       "2      10691\n",
       "1       8125\n",
       "Name: count, dtype: int64"
      ]
     },
     "execution_count": 10,
     "metadata": {},
     "output_type": "execute_result"
    }
   ],
   "source": [
    "df_sorted[\"Class\"].value_counts()"
   ]
  },
  {
   "cell_type": "markdown",
   "id": "05eff617",
   "metadata": {},
   "source": [
    "## Normalization"
   ]
  },
  {
   "cell_type": "code",
   "execution_count": null,
   "id": "7aa30dc9",
   "metadata": {},
   "outputs": [],
   "source": [
    "# normalizes data \n",
    "df_min_max_scaled = data_preprocessing.normalize_data(df_sorted, 'GlucoseCGM')\n",
    "df_min_max_scaled = data_preprocessing.normalize_data(df_min_max_scaled, 'HR')\t "
   ]
  },
  {
   "cell_type": "code",
   "execution_count": 13,
   "id": "1eb52711",
   "metadata": {},
   "outputs": [
    {
     "name": "stdout",
     "output_type": "stream",
     "text": [
      "0.07182697337753624\n",
      "0.07336463502280278\n",
      "0.049449122528053606\n",
      "Class\n",
      "0    0.101507\n",
      "1    0.154026\n",
      "2    0.277275\n",
      "3    0.242472\n",
      "4    0.155891\n",
      "5    0.087661\n",
      "dtype: float64\n",
      "Class\n",
      "0    0.094679\n",
      "1    0.162529\n",
      "2    0.287381\n",
      "3    0.279688\n",
      "4    0.211722\n",
      "5    0.091104\n",
      "dtype: float64\n",
      "Class\n",
      "0    0.063724\n",
      "1    0.112034\n",
      "2    0.198559\n",
      "3    0.192642\n",
      "4    0.145282\n",
      "5    0.061405\n",
      "dtype: float64\n"
     ]
    }
   ],
   "source": [
    "print(df_min_max_scaled['GlucoseCGM'].corr(df_min_max_scaled['HR']))\n",
    "print(df_min_max_scaled['GlucoseCGM'].corr(df_min_max_scaled['HR'], method = \"spearman\"))\n",
    "print(df_min_max_scaled['GlucoseCGM'].corr(df_min_max_scaled['HR'], method = \"kendall\"))\n",
    "cor_by_category = df_min_max_scaled.groupby('Class').apply(lambda g: g['GlucoseCGM'].corr(g['HR']))\n",
    "print(cor_by_category)\n",
    "cor_by_category = df_min_max_scaled.groupby('Class').apply(lambda g: g['GlucoseCGM'].corr(g['HR'], method = \"spearman\"))\n",
    "print(cor_by_category)\n",
    "cor_by_category = df_min_max_scaled.groupby('Class').apply(lambda g: g['GlucoseCGM'].corr(g['HR'], method = \"kendall\"))\n",
    "print(cor_by_category)"
   ]
  },
  {
   "cell_type": "markdown",
   "id": "6fc5f128",
   "metadata": {},
   "source": [
    "## Genearte time series "
   ]
  },
  {
   "cell_type": "code",
   "execution_count": null,
   "id": "b2ea65f7",
   "metadata": {},
   "outputs": [],
   "source": [
    "# generates time series with sliding window approach\n",
    "result = df_min_max_scaled.groupby('PtID').apply(lambda g: data_preprocessing.extract_valid_windows_GLC_HR(g))\n",
    "\n",
    "# filters out None values of subjects with insufficient data\n",
    "filtered_result = [item for item in result if item is not None]\n",
    "# unpacks the values\n",
    "X_train, X_val, X_test, Y_train, Y_val, Y_test = zip(*filtered_result)"
   ]
  },
  {
   "cell_type": "code",
   "execution_count": 16,
   "id": "66e3d8a6",
   "metadata": {},
   "outputs": [
    {
     "data": {
      "text/plain": [
       "46"
      ]
     },
     "execution_count": 16,
     "metadata": {},
     "output_type": "execute_result"
    }
   ],
   "source": [
    "len(X_train)"
   ]
  },
  {
   "cell_type": "code",
   "execution_count": null,
   "id": "f7be020e",
   "metadata": {},
   "outputs": [
    {
     "name": "stdout",
     "output_type": "stream",
     "text": [
      "(30117, 25, 2)\n",
      "(6482, 25, 2)\n",
      "(6483, 25, 2)\n"
     ]
    }
   ],
   "source": [
    "# data are flattened to match the required shape\n",
    "X_train = data_preprocessing.flatten_data(X_train, modus = \"input\", dim = 2)\n",
    "X_val = data_preprocessing.flatten_data(X_val, modus = \"input\", dim = 2)\n",
    "X_test = data_preprocessing.flatten_data(X_test, modus = \"input\", dim = 2)"
   ]
  },
  {
   "cell_type": "code",
   "execution_count": null,
   "id": "3191b7ca",
   "metadata": {},
   "outputs": [
    {
     "name": "stdout",
     "output_type": "stream",
     "text": [
      "(30117, 1)\n",
      "(6482, 1)\n",
      "(6483, 1)\n"
     ]
    }
   ],
   "source": [
    "# data are flattened to match the required shape\n",
    "Y_train = data_preprocessing.flatten_data(Y_train, modus = \"output\", dim = 1)\n",
    "Y_val = data_preprocessing.flatten_data(Y_val, modus = \"output\", dim = 1)\n",
    "Y_test = data_preprocessing.flatten_data(Y_test, modus = \"output\", dim = 1)"
   ]
  },
  {
   "cell_type": "code",
   "execution_count": 20,
   "id": "436fb0c8",
   "metadata": {},
   "outputs": [
    {
     "data": {
      "text/plain": [
       "(array([0, 1, 2, 3, 4]), array([11234,  1818,  2683,  5087,  9295]))"
      ]
     },
     "execution_count": 20,
     "metadata": {},
     "output_type": "execute_result"
    }
   ],
   "source": [
    "np.unique(Y_train, return_counts=True)"
   ]
  },
  {
   "cell_type": "code",
   "execution_count": 21,
   "id": "073a56fb",
   "metadata": {},
   "outputs": [
    {
     "data": {
      "text/plain": [
       "(array([0, 1, 2, 3, 4]), array([2698,  397,  543,  978, 1866]))"
      ]
     },
     "execution_count": 21,
     "metadata": {},
     "output_type": "execute_result"
    }
   ],
   "source": [
    "np.unique(Y_val, return_counts=True)"
   ]
  },
  {
   "cell_type": "code",
   "execution_count": 22,
   "id": "d3a2f862",
   "metadata": {},
   "outputs": [
    {
     "data": {
      "text/plain": [
       "(array([0, 1, 2, 3, 4]), array([2858,  363,  550,  997, 1715]))"
      ]
     },
     "execution_count": 22,
     "metadata": {},
     "output_type": "execute_result"
    }
   ],
   "source": [
    "np.unique(Y_test, return_counts=True)"
   ]
  },
  {
   "cell_type": "markdown",
   "id": "79bc5a38",
   "metadata": {},
   "source": [
    "## Class Undersampling"
   ]
  },
  {
   "cell_type": "code",
   "execution_count": null,
   "id": "5aa6a0f3",
   "metadata": {},
   "outputs": [],
   "source": [
    "from imblearn.under_sampling import RandomUnderSampler\n",
    "from collections import Counter\n",
    "import numpy as np\n",
    "\n",
    "def undersampling(X, y):\n",
    "    # ensures labels are 1D\n",
    "    if y.ndim == 2 and y.shape[1] == 1:\n",
    "        y = y.ravel()\n",
    "\n",
    "    # saves original shape\n",
    "    num_samples, window_size, num_channels = X.shape\n",
    "    # flattens for resampling\n",
    "    X_reshaped = X.reshape(num_samples, -1)  \n",
    "\n",
    "    # defines undersampling strategy: equalize all classes\n",
    "    min_class_count = min(Counter(y).values())\n",
    "    sampling_strategy = {int(cls): min_class_count for cls in np.unique(y)}\n",
    "\n",
    "    # applies undersampling\n",
    "    rus = RandomUnderSampler(sampling_strategy=sampling_strategy, random_state=42)\n",
    "    X_under, y_under = rus.fit_resample(X_reshaped, y)\n",
    "\n",
    "    # reshapes X back to original 3D shape\n",
    "    X_under = X_under.reshape(-1, window_size, num_channels)\n",
    "    y_under = y_under.reshape(-1, 1)\n",
    "\n",
    "    return X_under, y_under  # y_under is 1D\n"
   ]
  },
  {
   "cell_type": "code",
   "execution_count": 24,
   "id": "c95e48fa",
   "metadata": {},
   "outputs": [],
   "source": [
    "X_train, Y_train = undersampling(X_train, Y_train)\n",
    "X_val, Y_val = undersampling(X_val, Y_val)\n",
    "X_test, Y_test = undersampling(X_test, Y_test)"
   ]
  },
  {
   "cell_type": "markdown",
   "id": "5c9ee6e5",
   "metadata": {},
   "source": [
    "## ResNet model"
   ]
  },
  {
   "cell_type": "code",
   "execution_count": null,
   "id": "b5e60154",
   "metadata": {},
   "outputs": [
    {
     "name": "stderr",
     "output_type": "stream",
     "text": [
      "2025-05-28 10:21:18.123925: I metal_plugin/src/device/metal_device.cc:1154] Metal device set to: Apple M2 Max\n",
      "2025-05-28 10:21:18.123970: I metal_plugin/src/device/metal_device.cc:296] systemMemory: 32.00 GB\n",
      "2025-05-28 10:21:18.123975: I metal_plugin/src/device/metal_device.cc:313] maxCacheSize: 10.67 GB\n",
      "2025-05-28 10:21:18.124054: I tensorflow/core/common_runtime/pluggable_device/pluggable_device_factory.cc:303] Could not identify NUMA node of platform GPU ID 0, defaulting to 0. Your kernel may not have been built with NUMA support.\n",
      "2025-05-28 10:21:18.124299: I tensorflow/core/common_runtime/pluggable_device/pluggable_device_factory.cc:269] Created TensorFlow device (/job:localhost/replica:0/task:0/device:GPU:0 with 0 MB memory) -> physical PluggableDevice (device: 0, name: METAL, pci bus id: <undefined>)\n",
      "2025-05-28 10:21:18.148074: I tensorflow/core/common_runtime/pluggable_device/pluggable_device_factory.cc:303] Could not identify NUMA node of platform GPU ID 0, defaulting to 0. Your kernel may not have been built with NUMA support.\n",
      "2025-05-28 10:21:18.148091: I tensorflow/core/common_runtime/pluggable_device/pluggable_device_factory.cc:269] Created TensorFlow device (/job:localhost/replica:0/task:0/device:GPU:0 with 0 MB memory) -> physical PluggableDevice (device: 0, name: METAL, pci bus id: <undefined>)\n"
     ]
    },
    {
     "name": "stdout",
     "output_type": "stream",
     "text": [
      "Epoch 1/50\n"
     ]
    },
    {
     "name": "stderr",
     "output_type": "stream",
     "text": [
      "2025-05-28 10:21:19.456386: I tensorflow/core/grappler/optimizers/custom_graph_optimizer_registry.cc:114] Plugin optimizer for device_type GPU is enabled.\n",
      "2025-05-28 10:21:26.099066: I tensorflow/core/grappler/optimizers/custom_graph_optimizer_registry.cc:114] Plugin optimizer for device_type GPU is enabled.\n"
     ]
    },
    {
     "name": "stdout",
     "output_type": "stream",
     "text": [
      "\n",
      "Epoch 1: val_loss improved from inf to 1.89034, saving model to CustomModel.weights.hdf5\n",
      "143/143 - 8s - loss: 1.3861 - sparse_categorical_accuracy: 0.4009 - val_loss: 1.8903 - val_sparse_categorical_accuracy: 0.1985 - lr: 1.0000e-04 - 8s/epoch - 58ms/step\n",
      "Epoch 2/50\n"
     ]
    },
    {
     "name": "stderr",
     "output_type": "stream",
     "text": [
      "/Library/Frameworks/Python.framework/Versions/3.11/lib/python3.11/site-packages/keras/src/engine/training.py:3000: UserWarning: You are saving your model as an HDF5 file via `model.save()`. This file format is considered legacy. We recommend using instead the native Keras format, e.g. `model.save('my_model.keras')`.\n",
      "  saving_api.save_model(\n"
     ]
    },
    {
     "name": "stdout",
     "output_type": "stream",
     "text": [
      "\n",
      "Epoch 2: val_loss did not improve from 1.89034\n",
      "143/143 - 4s - loss: 1.1396 - sparse_categorical_accuracy: 0.5042 - val_loss: 2.1307 - val_sparse_categorical_accuracy: 0.2227 - lr: 1.0000e-04 - 4s/epoch - 26ms/step\n",
      "Epoch 3/50\n",
      "\n",
      "Epoch 3: val_loss improved from 1.89034 to 1.48919, saving model to CustomModel.weights.hdf5\n",
      "143/143 - 4s - loss: 1.0193 - sparse_categorical_accuracy: 0.5587 - val_loss: 1.4892 - val_sparse_categorical_accuracy: 0.3829 - lr: 1.0000e-04 - 4s/epoch - 26ms/step\n",
      "Epoch 4/50\n",
      "\n",
      "Epoch 4: val_loss improved from 1.48919 to 0.98485, saving model to CustomModel.weights.hdf5\n",
      "143/143 - 4s - loss: 0.9531 - sparse_categorical_accuracy: 0.5914 - val_loss: 0.9848 - val_sparse_categorical_accuracy: 0.5652 - lr: 1.0000e-04 - 4s/epoch - 27ms/step\n",
      "Epoch 5/50\n",
      "\n",
      "Epoch 5: val_loss improved from 0.98485 to 0.97159, saving model to CustomModel.weights.hdf5\n",
      "143/143 - 4s - loss: 0.9110 - sparse_categorical_accuracy: 0.6062 - val_loss: 0.9716 - val_sparse_categorical_accuracy: 0.5753 - lr: 1.0000e-04 - 4s/epoch - 26ms/step\n",
      "Epoch 6/50\n",
      "\n",
      "Epoch 6: val_loss did not improve from 0.97159\n",
      "143/143 - 4s - loss: 0.8924 - sparse_categorical_accuracy: 0.6121 - val_loss: 0.9871 - val_sparse_categorical_accuracy: 0.5668 - lr: 1.0000e-04 - 4s/epoch - 25ms/step\n",
      "Epoch 7/50\n",
      "\n",
      "Epoch 7: val_loss improved from 0.97159 to 0.96855, saving model to CustomModel.weights.hdf5\n",
      "143/143 - 4s - loss: 0.8633 - sparse_categorical_accuracy: 0.6246 - val_loss: 0.9686 - val_sparse_categorical_accuracy: 0.5718 - lr: 1.0000e-04 - 4s/epoch - 26ms/step\n",
      "Epoch 8/50\n",
      "\n",
      "Epoch 8: val_loss did not improve from 0.96855\n",
      "143/143 - 4s - loss: 0.8538 - sparse_categorical_accuracy: 0.6345 - val_loss: 0.9932 - val_sparse_categorical_accuracy: 0.5693 - lr: 1.0000e-04 - 4s/epoch - 25ms/step\n",
      "Epoch 9/50\n",
      "\n",
      "Epoch 9: val_loss improved from 0.96855 to 0.95402, saving model to CustomModel.weights.hdf5\n",
      "143/143 - 4s - loss: 0.8118 - sparse_categorical_accuracy: 0.6586 - val_loss: 0.9540 - val_sparse_categorical_accuracy: 0.5879 - lr: 1.0000e-04 - 4s/epoch - 26ms/step\n",
      "Epoch 10/50\n",
      "\n",
      "Epoch 10: val_loss did not improve from 0.95402\n",
      "143/143 - 4s - loss: 0.7946 - sparse_categorical_accuracy: 0.6682 - val_loss: 1.0785 - val_sparse_categorical_accuracy: 0.5380 - lr: 1.0000e-04 - 4s/epoch - 25ms/step\n",
      "Epoch 11/50\n",
      "\n",
      "Epoch 11: val_loss did not improve from 0.95402\n",
      "143/143 - 3s - loss: 0.7890 - sparse_categorical_accuracy: 0.6694 - val_loss: 0.9626 - val_sparse_categorical_accuracy: 0.6030 - lr: 1.0000e-04 - 3s/epoch - 24ms/step\n",
      "Epoch 12/50\n",
      "\n",
      "Epoch 12: val_loss did not improve from 0.95402\n",
      "\n",
      "Epoch 12: ReduceLROnPlateau reducing learning rate to 1.9999999494757503e-05.\n",
      "143/143 - 4s - loss: 0.7610 - sparse_categorical_accuracy: 0.6810 - val_loss: 0.9904 - val_sparse_categorical_accuracy: 0.5773 - lr: 1.0000e-04 - 4s/epoch - 25ms/step\n",
      "Epoch 13/50\n",
      "\n",
      "Epoch 13: val_loss did not improve from 0.95402\n",
      "143/143 - 3s - loss: 0.7094 - sparse_categorical_accuracy: 0.7099 - val_loss: 0.9674 - val_sparse_categorical_accuracy: 0.5945 - lr: 2.0000e-05 - 3s/epoch - 24ms/step\n",
      "Epoch 14/50\n",
      "\n",
      "Epoch 14: val_loss improved from 0.95402 to 0.95045, saving model to CustomModel.weights.hdf5\n",
      "143/143 - 4s - loss: 0.7013 - sparse_categorical_accuracy: 0.7239 - val_loss: 0.9504 - val_sparse_categorical_accuracy: 0.6086 - lr: 2.0000e-05 - 4s/epoch - 25ms/step\n",
      "Epoch 15/50\n",
      "\n",
      "Epoch 15: val_loss did not improve from 0.95045\n",
      "143/143 - 4s - loss: 0.6741 - sparse_categorical_accuracy: 0.7371 - val_loss: 0.9598 - val_sparse_categorical_accuracy: 0.6096 - lr: 2.0000e-05 - 4s/epoch - 25ms/step\n",
      "Epoch 16/50\n",
      "\n",
      "Epoch 16: val_loss did not improve from 0.95045\n",
      "143/143 - 4s - loss: 0.6768 - sparse_categorical_accuracy: 0.7350 - val_loss: 0.9698 - val_sparse_categorical_accuracy: 0.5990 - lr: 2.0000e-05 - 4s/epoch - 25ms/step\n",
      "Epoch 17/50\n",
      "\n",
      "Epoch 17: val_loss did not improve from 0.95045\n",
      "\n",
      "Epoch 17: ReduceLROnPlateau reducing learning rate to 1e-05.\n",
      "143/143 - 4s - loss: 0.6653 - sparse_categorical_accuracy: 0.7411 - val_loss: 0.9696 - val_sparse_categorical_accuracy: 0.6035 - lr: 2.0000e-05 - 4s/epoch - 25ms/step\n",
      "Epoch 18/50\n",
      "\n",
      "Epoch 18: val_loss did not improve from 0.95045\n",
      "143/143 - 4s - loss: 0.6612 - sparse_categorical_accuracy: 0.7455 - val_loss: 0.9683 - val_sparse_categorical_accuracy: 0.6025 - lr: 1.0000e-05 - 4s/epoch - 25ms/step\n",
      "Epoch 19/50\n",
      "Restoring model weights from the end of the best epoch: 14.\n",
      "\n",
      "Epoch 19: val_loss did not improve from 0.95045\n",
      "143/143 - 3s - loss: 0.6449 - sparse_categorical_accuracy: 0.7519 - val_loss: 0.9755 - val_sparse_categorical_accuracy: 0.5960 - lr: 1.0000e-05 - 3s/epoch - 24ms/step\n",
      "Epoch 19: early stopping\n",
      "57/57 [==============================] - 1s 10ms/step - loss: 0.9560 - sparse_categorical_accuracy: 0.5901\n"
     ]
    },
    {
     "name": "stderr",
     "output_type": "stream",
     "text": [
      "2025-05-28 10:22:32.633231: I tensorflow/core/grappler/optimizers/custom_graph_optimizer_registry.cc:114] Plugin optimizer for device_type GPU is enabled.\n"
     ]
    },
    {
     "name": "stdout",
     "output_type": "stream",
     "text": [
      "57/57 [==============================] - 1s 7ms/step\n"
     ]
    },
    {
     "data": {
      "image/png": "[encoded data removed]",
      "text/plain": [
       "<Figure size 640x480 with 2 Axes>"
      ]
     },
     "metadata": {},
     "output_type": "display_data"
    },
    {
     "name": "stdout",
     "output_type": "stream",
     "text": [
      "              precision    recall  f1-score   support\n",
      "\n",
      "           0       0.93      0.92      0.93       363\n",
      "           1       0.60      0.58      0.59       363\n",
      "           2       0.39      0.43      0.41       363\n",
      "           3       0.40      0.37      0.38       363\n",
      "           4       0.64      0.65      0.65       363\n",
      "\n",
      "    accuracy                           0.59      1815\n",
      "   macro avg       0.59      0.59      0.59      1815\n",
      "weighted avg       0.59      0.59      0.59      1815\n",
      "\n"
     ]
    }
   ],
   "source": [
    "# source: https://github.com/cauchyturing/UCR_Time_Series_Classification_Deep_Learning_Baseline/blob/master/ResNet.py\n",
    "# \n",
    "# #!/usr/bin/env python3\n",
    "# -*- coding: utf-8 -*-\n",
    "\"\"\"\n",
    "Created on Sat Nov 12 01:09:17 2016\n",
    "\n",
    "@author: stephen\n",
    "\"\"\"\n",
    "\n",
    "from tensorflow import keras\n",
    "import numpy as np\n",
    "import pandas as pd\n",
    "\n",
    "seed_value= 42  \n",
    "os.environ['PYTHONHASHSEED']=str(seed_value)\n",
    "random.seed(seed_value)\n",
    "np.random.seed(seed_value)\n",
    "tf.compat.v1.set_random_seed(seed_value)\n",
    "session_conf = tf.compat.v1.ConfigProto(intra_op_parallelism_threads=1, inter_op_parallelism_threads=1)\n",
    "sess = tf.compat.v1.Session(graph=tf.compat.v1.get_default_graph(), config=session_conf)\n",
    "tf.compat.v1.keras.backend.set_session(sess)\n",
    "\n",
    "\n",
    "\n",
    "def build_resnet_1d(input_shape, n_feature_maps, nb_classes):\n",
    "    inputs = Input(shape=input_shape)\n",
    "\n",
    "    # Block 1\n",
    "    x = BatchNormalization()(inputs)\n",
    "    x = Conv1D(n_feature_maps, 8, padding='same',kernel_initializer='he_normal' )(x)\n",
    "    x = BatchNormalization()(x)\n",
    "    x = Activation('relu')(x)\n",
    "\n",
    "    x = Conv1D(n_feature_maps, 5, padding='same',kernel_initializer='he_normal')(x)\n",
    "    x = BatchNormalization()(x)\n",
    "    x = Activation('relu')(x)\n",
    "\n",
    "    x = Conv1D(n_feature_maps, 3, padding='same',kernel_initializer='he_normal')(x)\n",
    "    x = BatchNormalization()(x)\n",
    "\n",
    "    shortcut = Conv1D(n_feature_maps, 1, padding='same',kernel_initializer='he_normal')(inputs)\n",
    "    shortcut = BatchNormalization()(shortcut)\n",
    "\n",
    "    x = Add()([shortcut, x])\n",
    "    x = Activation('relu')(x)\n",
    "\n",
    "    # Block 2\n",
    "    x1 = x\n",
    "    x = Conv1D(n_feature_maps * 2, 8, padding='same',kernel_initializer='he_normal')(x1)\n",
    "    x = BatchNormalization()(x)\n",
    "    x = Activation('relu')(x)\n",
    "\n",
    "    x = Conv1D(n_feature_maps * 2, 5, padding='same',kernel_initializer='he_normal')(x)\n",
    "    x = BatchNormalization()(x)\n",
    "    x = Activation('relu')(x)\n",
    "\n",
    "    x = Conv1D(n_feature_maps * 2, 3, padding='same',kernel_initializer='he_normal')(x)\n",
    "    x = BatchNormalization()(x)\n",
    "\n",
    "    shortcut = Conv1D(n_feature_maps * 2, 1, padding='same',kernel_initializer='he_normal')(x1)\n",
    "    shortcut = BatchNormalization()(shortcut)\n",
    "\n",
    "    x = Add()([shortcut, x])\n",
    "    x = Activation('relu')(x)\n",
    "\n",
    "    # Block 3\n",
    "    x1 = x\n",
    "    x = Conv1D(n_feature_maps * 2, 8, padding='same',kernel_initializer='he_normal')(x1)\n",
    "    x = BatchNormalization()(x)\n",
    "    x = Activation('relu')(x)\n",
    "\n",
    "    x = Conv1D(n_feature_maps * 2, 5, padding='same',kernel_initializer='he_normal')(x)\n",
    "    x = BatchNormalization()(x)\n",
    "    x = Activation('relu')(x)\n",
    "\n",
    "    x = Conv1D(n_feature_maps * 2, 3, padding='same',kernel_initializer='he_normal')(x)\n",
    "    x = BatchNormalization()(x)\n",
    "\n",
    "    shortcut = Conv1D(n_feature_maps * 2, 1, padding='same',kernel_initializer='he_normal')(x1)\n",
    "    shortcut = BatchNormalization()(shortcut)\n",
    "\n",
    "    x = Add()([shortcut, x])\n",
    "    x = Activation('relu')(x)\n",
    "\n",
    "    # Output\n",
    "    x = GlobalAveragePooling1D()(x)\n",
    "    output = Dense(nb_classes, activation='softmax')(x)\n",
    "\n",
    "    model = Model(inputs=inputs, outputs=output)\n",
    "    return model\n",
    "\n",
    "\n",
    "\n",
    "\n",
    "# Define the early stopping callback\n",
    "early_stopping = EarlyStopping(patience=5, monitor='val_loss', mode='min', verbose=1, restore_best_weights=True)\n",
    "\n",
    "# initialize callbacks \n",
    "reduceLR =ReduceLROnPlateau(monitor='val_loss', patience=3, verbose= 1, mode='min', factor= 0.2, min_lr = 1e-5) \n",
    "\n",
    "checkpoint = ModelCheckpoint('CustomModel.weights.hdf5', monitor='val_loss', verbose=1,save_best_only=True, mode= 'min') \n",
    "\n",
    "callbacks= [early_stopping, checkpoint, reduceLR]\n",
    "\n",
    "BUFFER_SIZE = len(X_train) #100_000\n",
    "BATCH_SIZE = 64\n",
    "\n",
    "Y_train_rs = Y_train.reshape(-1).astype('int32')\n",
    "Y_val_rs = Y_val.reshape(-1).astype('int32')\n",
    "Y_test_rs = Y_test.reshape(-1).astype('int32')\n",
    "\n",
    "X_train_t = tf.convert_to_tensor(X_train, dtype=tf.float32)\n",
    "Y_train_t = tf.convert_to_tensor(Y_train_rs, dtype=tf.int32)\n",
    "\n",
    "X_val_t = tf.convert_to_tensor(X_val, dtype=tf.float32)\n",
    "Y_val_t = tf.convert_to_tensor(Y_val_rs, dtype=tf.int32)\n",
    "\n",
    "X_test_t = tf.convert_to_tensor(X_test, dtype=tf.float32)\n",
    "Y_test_t = tf.convert_to_tensor(Y_test_rs, dtype=tf.int32)\n",
    "\n",
    "train_ds_t = tf.data.Dataset.from_tensor_slices((X_train_t, Y_train_t))\n",
    "train_ds = train_ds_t.shuffle(BUFFER_SIZE).batch(BATCH_SIZE).prefetch(tf.data.AUTOTUNE)\n",
    "\n",
    "val_ds = tf.data.Dataset.from_tensor_slices((X_val_t, Y_val_t)).batch(BATCH_SIZE)\n",
    "\n",
    "optimizer = tf.keras.optimizers.legacy.Adam(learning_rate=1e-4)\n",
    "\n",
    "# Build and train model\n",
    "model_wang_resnet3 = build_resnet_1d((X_train.shape[1], X_train.shape[2]), 64, 5) \n",
    "model_wang_resnet3.compile(loss='sparse_categorical_crossentropy', optimizer=optimizer, metrics=['sparse_categorical_accuracy'])\n",
    "model_wang_resnet3.fit(train_ds, epochs=50, validation_data=val_ds, callbacks=callbacks, verbose=2)\n",
    "\n",
    "sns.set_theme(style=\"white\")\n",
    "# Evaluation of the model and Confusion Matrix\n",
    "model_wang_resnet3.evaluate(X_test_t, Y_test_t)\n",
    "predictions_model_wang_resnet3 = model_wang_resnet3.predict(X_test_t)\n",
    "y_pred_model_wang_resnet3 = np.argmax(predictions_model_wang_resnet3, axis=1) \n",
    "ConfusionMatrixDisplay.from_predictions(\n",
    "    Y_test_t, y_pred_model_wang_resnet3)\n",
    "plt.show()\n",
    "\n",
    "print(classification_report(Y_test_t, y_pred_model_wang_resnet3))\n",
    "\n",
    "model_wang_resnet3.save(\"model_wang_resnet_SDBII_raw.keras\")"
   ]
  }
 ],
 "metadata": {
  "kernelspec": {
   "display_name": "Python 3",
   "language": "python",
   "name": "python3"
  },
  "language_info": {
   "codemirror_mode": {
    "name": "ipython",
    "version": 3
   },
   "file_extension": ".py",
   "mimetype": "text/x-python",
   "name": "python",
   "nbconvert_exporter": "python",
   "pygments_lexer": "ipython3",
   "version": "3.11.4"
  }
 },
 "nbformat": 4,
 "nbformat_minor": 5
}
