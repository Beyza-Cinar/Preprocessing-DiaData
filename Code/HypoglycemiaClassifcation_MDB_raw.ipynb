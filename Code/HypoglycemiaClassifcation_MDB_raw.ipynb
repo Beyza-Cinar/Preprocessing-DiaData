{
 "cells": [
  {
   "cell_type": "code",
   "execution_count": null,
   "id": "0473f93c",
   "metadata": {},
   "outputs": [],
   "source": [
    "# imports\n",
    "import pandas as pd\n",
    "import os\n",
    "\n",
    "from keras import backend as K\n",
    "from sklearn.model_selection import train_test_split\n",
    "from sklearn.model_selection import GroupShuffleSplit\n",
    "from sklearn.preprocessing import StandardScaler, LabelEncoder\n",
    "from tensorflow.keras.models import Sequential\n",
    "from tensorflow.keras.layers import Conv1D, BatchNormalization, MaxPooling1D, Flatten, Dense, Dropout, Input, Activation, Add, GlobalAveragePooling1D\n",
    "from tensorflow.keras.callbacks import EarlyStopping, ModelCheckpoint, ReduceLROnPlateau\n",
    "\n",
    "import matplotlib.pyplot as plt\n",
    "from sklearn.metrics import ConfusionMatrixDisplay\n",
    "from sklearn.model_selection import train_test_split\n",
    "from sklearn.metrics import classification_report\n",
    "import random \n",
    "import numpy as np \n",
    "\n",
    "from imblearn.under_sampling import RandomUnderSampler\n",
    "\n",
    "from sklearn.model_selection import KFold\n",
    "import tensorflow as tf\n",
    "from tensorflow.keras.models import Model\n",
    "from tensorflow.keras import layers\n",
    "\n",
    "import datetime\n",
    "from datetime import timedelta\n",
    "\n",
    "import polars as pl\n",
    "import glob\n",
    "import seaborn as sns\n",
    "\n",
    "import data_preprocessing"
   ]
  },
  {
   "cell_type": "code",
   "execution_count": null,
   "id": "627d9422",
   "metadata": {},
   "outputs": [],
   "source": [
    "# read the integrated raw main databases from: https://openhsu.ub.hsu-hh.de/handle/10.24405/20048\n",
    "csv_files_maindatabase = sorted(glob.glob(os.path.join('DiaData/datasets for T1D/maindatabase', '*.csv')))\n",
    "combined_main_raw = pd.concat([pl.read_csv(file).to_pandas() for file in csv_files_maindatabase], ignore_index=True)\n",
    "# converts the timestamp column to datetime\n",
    "combined_main_raw[\"ts\"] = pd.to_datetime(combined_main_raw[\"ts\"])"
   ]
  },
  {
   "cell_type": "markdown",
   "id": "988f7844",
   "metadata": {},
   "source": [
    "## Assign classes and generate time series"
   ]
  },
  {
   "cell_type": "code",
   "execution_count": null,
   "id": "64b1fb7a",
   "metadata": {},
   "outputs": [],
   "source": [
    "# dataset with interpolated values is copied\n",
    "classes_df = combined_main_raw.copy()\n",
    "# initially all classes are assigned a class -1\n",
    "classes_df[\"Class\"] = -1\n",
    "# hypoglycemic values are defined as class 0 with values equal and lower than 70 mg/dL\n",
    "classes_df.loc[classes_df[\"GlucoseCGM\"] <= 70, \"Class\"] = 0\n",
    "\n",
    "# calls the function class_generation to assing classes based on wanted intervals before hypogylcemia for each subject separately\n",
    "classes_df = classes_df.groupby(\"PtID\", group_keys=False).apply(lambda x: data_preprocessing.class_generation(x,\"ts\", 5, 15, 1)) # 5-15 min\n",
    "classes_df = classes_df.groupby(\"PtID\", group_keys=False).apply(lambda x: data_preprocessing.class_generation(x,\"ts\", 15, 30, 2)) # 15-30 min\n",
    "classes_df = classes_df.groupby(\"PtID\", group_keys=False).apply(lambda x: data_preprocessing.class_generation(x,\"ts\", 30, 60, 3))  # 30-60 min\n",
    "classes_df = classes_df.groupby(\"PtID\", group_keys=False).apply(lambda x: data_preprocessing.class_generation(x,\"ts\",  60, 125, 4)) # 1-2 h\n",
    "classes_df.loc[classes_df[\"Class\"] == -1, \"Class\"] = 5\n",
    "\n",
    "# sorts the glucose values by patient id and timestamps\n",
    "df_sorted = classes_df.sort_values(by=['PtID', 'ts'])\n",
    "# reindexes based on the sorted dataset\n",
    "df_sorted = df_sorted.reset_index(drop=True)"
   ]
  },
  {
   "cell_type": "code",
   "execution_count": null,
   "id": "b9572872",
   "metadata": {},
   "outputs": [
    {
     "data": {
      "text/plain": [
       "Class\n",
       "5    239055257\n",
       "4      7045918\n",
       "0      6572292\n",
       "3      3577883\n",
       "2      1941618\n",
       "1      1548177\n",
       "Name: count, dtype: int64"
      ]
     },
     "execution_count": 13,
     "metadata": {},
     "output_type": "execute_result"
    }
   ],
   "source": [
    "classes_df[\"Class\"].value_counts()"
   ]
  },
  {
   "cell_type": "markdown",
   "id": "05eff617",
   "metadata": {},
   "source": [
    "## Normalization"
   ]
  },
  {
   "cell_type": "code",
   "execution_count": null,
   "id": "7aa30dc9",
   "metadata": {},
   "outputs": [],
   "source": [
    "# normalizes data \n",
    "df_min_max_scaled = data_preprocessing.normalize_data(df_sorted, 'GlucoseCGM')"
   ]
  },
  {
   "cell_type": "markdown",
   "id": "6fc5f128",
   "metadata": {},
   "source": [
    "## Genearte time series "
   ]
  },
  {
   "cell_type": "code",
   "execution_count": null,
   "id": "b2ea65f7",
   "metadata": {},
   "outputs": [],
   "source": [
    "# generates time series with sliding window approach\n",
    "result = df_min_max_scaled.groupby('PtID').apply(lambda g: data_preprocessing.extract_valid_windows_GLC(g))\n",
    "\n",
    "# filters out None values of subjects with insufficient data\n",
    "filtered_result = [item for item in result if item is not None]\n",
    "# unpacks the values\n",
    "X_train, X_val, X_test, Y_train, Y_val, Y_test = zip(*filtered_result)"
   ]
  },
  {
   "cell_type": "code",
   "execution_count": 17,
   "id": "76d298af",
   "metadata": {},
   "outputs": [
    {
     "data": {
      "text/plain": [
       "2248"
      ]
     },
     "execution_count": 17,
     "metadata": {},
     "output_type": "execute_result"
    }
   ],
   "source": [
    "len(X_train)"
   ]
  },
  {
   "cell_type": "code",
   "execution_count": null,
   "id": "f7be020e",
   "metadata": {},
   "outputs": [
    {
     "name": "stdout",
     "output_type": "stream",
     "text": [
      "(8097735, 25, 1)\n",
      "(1737006, 25, 1)\n",
      "(1736822, 25, 1)\n"
     ]
    }
   ],
   "source": [
    "# data are flattened to match the required shape\n",
    "X_train = data_preprocessing.flatten_data(X_train, modus = \"input\", dim = 1)\n",
    "X_val = data_preprocessing.flatten_data(X_val, modus = \"input\", dim = 1)\n",
    "X_test = data_preprocessing.flatten_data(X_test, modus = \"input\", dim = 1)"
   ]
  },
  {
   "cell_type": "code",
   "execution_count": null,
   "id": "3191b7ca",
   "metadata": {},
   "outputs": [
    {
     "name": "stdout",
     "output_type": "stream",
     "text": [
      "(8097735, 1)\n",
      "(1737006, 1)\n",
      "(1736822, 1)\n"
     ]
    }
   ],
   "source": [
    "# data are flattened to match the required shape\n",
    "Y_train = data_preprocessing.flatten_data(Y_train, modus = \"output\", dim = 1)\n",
    "Y_val = data_preprocessing.flatten_data(Y_val, modus = \"output\", dim = 1)\n",
    "Y_test = data_preprocessing.flatten_data(Y_test, modus = \"output\", dim = 1)"
   ]
  },
  {
   "cell_type": "code",
   "execution_count": 21,
   "id": "436fb0c8",
   "metadata": {},
   "outputs": [
    {
     "data": {
      "text/plain": [
       "(array([0, 1, 2, 3, 4]), array([2857148,  510579,  730088, 1367337, 2632583]))"
      ]
     },
     "execution_count": 21,
     "metadata": {},
     "output_type": "execute_result"
    }
   ],
   "source": [
    "np.unique(Y_train, return_counts=True)"
   ]
  },
  {
   "cell_type": "code",
   "execution_count": 22,
   "id": "073a56fb",
   "metadata": {},
   "outputs": [
    {
     "data": {
      "text/plain": [
       "(array([0, 1, 2, 3, 4]), array([592750, 110406, 159113, 299344, 575393]))"
      ]
     },
     "execution_count": 22,
     "metadata": {},
     "output_type": "execute_result"
    }
   ],
   "source": [
    "np.unique(Y_val, return_counts=True)"
   ]
  },
  {
   "cell_type": "code",
   "execution_count": 23,
   "id": "d3a2f862",
   "metadata": {},
   "outputs": [
    {
     "data": {
      "text/plain": [
       "(array([0, 1, 2, 3, 4]), array([579247, 111804, 161229, 303370, 581172]))"
      ]
     },
     "execution_count": 23,
     "metadata": {},
     "output_type": "execute_result"
    }
   ],
   "source": [
    "np.unique(Y_test, return_counts=True)"
   ]
  },
  {
   "cell_type": "markdown",
   "id": "79bc5a38",
   "metadata": {},
   "source": [
    "## Class undersampling"
   ]
  },
  {
   "cell_type": "code",
   "execution_count": null,
   "id": "5aa6a0f3",
   "metadata": {},
   "outputs": [],
   "source": [
    "def undersampling(X, y):\n",
    "    # flattens y if it's 2D\n",
    "    if isinstance(y, np.ndarray) and y.ndim == 2 and y.shape[1] == 1:\n",
    "        y = y.ravel()\n",
    "\n",
    "    # reshapes X for sampling\n",
    "    num_samples, window_size, _ = X.shape\n",
    "    X_reshaped = X.reshape(num_samples, window_size)\n",
    "\n",
    "    # creates a balanced strategy\n",
    "    from collections import Counter\n",
    "    min_class_count = min(Counter(y).values())\n",
    "    sampling_strategy = {int(cls): min_class_count for cls in np.unique(y)}\n",
    "\n",
    "    # applies undersampling\n",
    "    from imblearn.under_sampling import RandomUnderSampler\n",
    "    undersample = RandomUnderSampler(sampling_strategy=sampling_strategy)\n",
    "    X_under, y_under = undersample.fit_resample(X_reshaped, y)\n",
    "\n",
    "    # reshapes back to 3D\n",
    "    X_under = X_under.reshape(-1, window_size, 1)\n",
    "    y_under = y_under.reshape(-1, 1)\n",
    "\n",
    "    return X_under, y_under"
   ]
  },
  {
   "cell_type": "code",
   "execution_count": 25,
   "id": "c95e48fa",
   "metadata": {},
   "outputs": [],
   "source": [
    "X_train, Y_train = undersampling(X_train, Y_train)\n",
    "X_val, Y_val = undersampling(X_val, Y_val)\n",
    "X_test, Y_test = undersampling(X_test, Y_test)"
   ]
  },
  {
   "cell_type": "markdown",
   "id": "65324921",
   "metadata": {},
   "source": [
    "## ResNet Model"
   ]
  },
  {
   "cell_type": "code",
   "execution_count": null,
   "id": "11e822ba",
   "metadata": {},
   "outputs": [
    {
     "name": "stderr",
     "output_type": "stream",
     "text": [
      "2025-05-28 11:35:41.468788: I metal_plugin/src/device/metal_device.cc:1154] Metal device set to: Apple M2 Max\n",
      "2025-05-28 11:35:41.473808: I metal_plugin/src/device/metal_device.cc:296] systemMemory: 32.00 GB\n",
      "2025-05-28 11:35:41.473819: I metal_plugin/src/device/metal_device.cc:313] maxCacheSize: 10.67 GB\n",
      "2025-05-28 11:35:41.473857: I tensorflow/core/common_runtime/pluggable_device/pluggable_device_factory.cc:303] Could not identify NUMA node of platform GPU ID 0, defaulting to 0. Your kernel may not have been built with NUMA support.\n",
      "2025-05-28 11:35:41.473879: I tensorflow/core/common_runtime/pluggable_device/pluggable_device_factory.cc:269] Created TensorFlow device (/job:localhost/replica:0/task:0/device:GPU:0 with 0 MB memory) -> physical PluggableDevice (device: 0, name: METAL, pci bus id: <undefined>)\n",
      "2025-05-28 11:35:41.545675: I tensorflow/core/common_runtime/pluggable_device/pluggable_device_factory.cc:303] Could not identify NUMA node of platform GPU ID 0, defaulting to 0. Your kernel may not have been built with NUMA support.\n",
      "2025-05-28 11:35:41.545694: I tensorflow/core/common_runtime/pluggable_device/pluggable_device_factory.cc:269] Created TensorFlow device (/job:localhost/replica:0/task:0/device:GPU:0 with 0 MB memory) -> physical PluggableDevice (device: 0, name: METAL, pci bus id: <undefined>)\n"
     ]
    },
    {
     "name": "stdout",
     "output_type": "stream",
     "text": [
      "Epoch 1/50\n"
     ]
    },
    {
     "name": "stderr",
     "output_type": "stream",
     "text": [
      "2025-05-28 11:35:43.031491: I tensorflow/core/grappler/optimizers/custom_graph_optimizer_registry.cc:114] Plugin optimizer for device_type GPU is enabled.\n",
      "2025-05-28 11:40:18.705901: I tensorflow/core/grappler/optimizers/custom_graph_optimizer_registry.cc:114] Plugin optimizer for device_type GPU is enabled.\n"
     ]
    },
    {
     "name": "stdout",
     "output_type": "stream",
     "text": [
      "\n",
      "Epoch 1: val_loss improved from inf to 0.68606, saving model to CustomModel.weights.hdf5\n",
      "9973/9973 - 297s - loss: 0.7387 - sparse_categorical_accuracy: 0.6794 - val_loss: 0.6861 - val_sparse_categorical_accuracy: 0.7034 - lr: 1.0000e-04 - 297s/epoch - 30ms/step\n",
      "Epoch 2/50\n"
     ]
    },
    {
     "name": "stderr",
     "output_type": "stream",
     "text": [
      "/Library/Frameworks/Python.framework/Versions/3.11/lib/python3.11/site-packages/keras/src/engine/training.py:3000: UserWarning: You are saving your model as an HDF5 file via `model.save()`. This file format is considered legacy. We recommend using instead the native Keras format, e.g. `model.save('my_model.keras')`.\n",
      "  saving_api.save_model(\n"
     ]
    },
    {
     "name": "stdout",
     "output_type": "stream",
     "text": [
      "\n",
      "Epoch 2: val_loss improved from 0.68606 to 0.68165, saving model to CustomModel.weights.hdf5\n",
      "9973/9973 - 378s - loss: 0.6961 - sparse_categorical_accuracy: 0.6975 - val_loss: 0.6817 - val_sparse_categorical_accuracy: 0.6999 - lr: 1.0000e-04 - 378s/epoch - 38ms/step\n",
      "Epoch 3/50\n",
      "\n",
      "Epoch 3: val_loss improved from 0.68165 to 0.66960, saving model to CustomModel.weights.hdf5\n",
      "9973/9973 - 297s - loss: 0.6861 - sparse_categorical_accuracy: 0.7014 - val_loss: 0.6696 - val_sparse_categorical_accuracy: 0.7103 - lr: 1.0000e-04 - 297s/epoch - 30ms/step\n",
      "Epoch 4/50\n",
      "\n",
      "Epoch 4: val_loss improved from 0.66960 to 0.66795, saving model to CustomModel.weights.hdf5\n",
      "9973/9973 - 277s - loss: 0.6806 - sparse_categorical_accuracy: 0.7038 - val_loss: 0.6679 - val_sparse_categorical_accuracy: 0.7076 - lr: 1.0000e-04 - 277s/epoch - 28ms/step\n",
      "Epoch 5/50\n",
      "\n",
      "Epoch 5: val_loss improved from 0.66795 to 0.66365, saving model to CustomModel.weights.hdf5\n",
      "9973/9973 - 278s - loss: 0.6759 - sparse_categorical_accuracy: 0.7056 - val_loss: 0.6637 - val_sparse_categorical_accuracy: 0.7087 - lr: 1.0000e-04 - 278s/epoch - 28ms/step\n",
      "Epoch 6/50\n",
      "\n",
      "Epoch 6: val_loss improved from 0.66365 to 0.66028, saving model to CustomModel.weights.hdf5\n",
      "9973/9973 - 275s - loss: 0.6731 - sparse_categorical_accuracy: 0.7068 - val_loss: 0.6603 - val_sparse_categorical_accuracy: 0.7125 - lr: 1.0000e-04 - 275s/epoch - 28ms/step\n",
      "Epoch 7/50\n",
      "\n",
      "Epoch 7: val_loss improved from 0.66028 to 0.65924, saving model to CustomModel.weights.hdf5\n",
      "9973/9973 - 286s - loss: 0.6699 - sparse_categorical_accuracy: 0.7083 - val_loss: 0.6592 - val_sparse_categorical_accuracy: 0.7147 - lr: 1.0000e-04 - 286s/epoch - 29ms/step\n",
      "Epoch 8/50\n",
      "\n",
      "Epoch 8: val_loss improved from 0.65924 to 0.65844, saving model to CustomModel.weights.hdf5\n",
      "9973/9973 - 284s - loss: 0.6681 - sparse_categorical_accuracy: 0.7090 - val_loss: 0.6584 - val_sparse_categorical_accuracy: 0.7151 - lr: 1.0000e-04 - 284s/epoch - 28ms/step\n",
      "Epoch 9/50\n",
      "\n",
      "Epoch 9: val_loss improved from 0.65844 to 0.65624, saving model to CustomModel.weights.hdf5\n",
      "9973/9973 - 286s - loss: 0.6654 - sparse_categorical_accuracy: 0.7101 - val_loss: 0.6562 - val_sparse_categorical_accuracy: 0.7149 - lr: 1.0000e-04 - 286s/epoch - 29ms/step\n",
      "Epoch 10/50\n",
      "\n",
      "Epoch 10: val_loss did not improve from 0.65624\n",
      "9973/9973 - 289s - loss: 0.6644 - sparse_categorical_accuracy: 0.7107 - val_loss: 0.6858 - val_sparse_categorical_accuracy: 0.7028 - lr: 1.0000e-04 - 289s/epoch - 29ms/step\n",
      "Epoch 11/50\n",
      "\n",
      "Epoch 11: val_loss improved from 0.65624 to 0.65615, saving model to CustomModel.weights.hdf5\n",
      "9973/9973 - 284s - loss: 0.6624 - sparse_categorical_accuracy: 0.7113 - val_loss: 0.6562 - val_sparse_categorical_accuracy: 0.7156 - lr: 1.0000e-04 - 284s/epoch - 29ms/step\n",
      "Epoch 12/50\n",
      "\n",
      "Epoch 12: val_loss did not improve from 0.65615\n",
      "\n",
      "Epoch 12: ReduceLROnPlateau reducing learning rate to 1.9999999494757503e-05.\n",
      "9973/9973 - 281s - loss: 0.6609 - sparse_categorical_accuracy: 0.7121 - val_loss: 0.6719 - val_sparse_categorical_accuracy: 0.7026 - lr: 1.0000e-04 - 281s/epoch - 28ms/step\n",
      "Epoch 13/50\n",
      "\n",
      "Epoch 13: val_loss did not improve from 0.65615\n",
      "9973/9973 - 281s - loss: 0.6524 - sparse_categorical_accuracy: 0.7161 - val_loss: 0.6565 - val_sparse_categorical_accuracy: 0.7132 - lr: 2.0000e-05 - 281s/epoch - 28ms/step\n",
      "Epoch 14/50\n",
      "\n",
      "Epoch 14: val_loss did not improve from 0.65615\n",
      "9973/9973 - 277s - loss: 0.6505 - sparse_categorical_accuracy: 0.7169 - val_loss: 0.6734 - val_sparse_categorical_accuracy: 0.7036 - lr: 2.0000e-05 - 277s/epoch - 28ms/step\n",
      "Epoch 15/50\n",
      "\n",
      "Epoch 15: val_loss did not improve from 0.65615\n",
      "\n",
      "Epoch 15: ReduceLROnPlateau reducing learning rate to 1e-05.\n",
      "9973/9973 - 276s - loss: 0.6496 - sparse_categorical_accuracy: 0.7172 - val_loss: 0.6580 - val_sparse_categorical_accuracy: 0.7106 - lr: 2.0000e-05 - 276s/epoch - 28ms/step\n",
      "Epoch 16/50\n",
      "\n",
      "Epoch 16: val_loss improved from 0.65615 to 0.65288, saving model to CustomModel.weights.hdf5\n",
      "9973/9973 - 278s - loss: 0.6475 - sparse_categorical_accuracy: 0.7182 - val_loss: 0.6529 - val_sparse_categorical_accuracy: 0.7169 - lr: 1.0000e-05 - 278s/epoch - 28ms/step\n",
      "Epoch 17/50\n",
      "\n",
      "Epoch 17: val_loss did not improve from 0.65288\n",
      "9973/9973 - 276s - loss: 0.6472 - sparse_categorical_accuracy: 0.7183 - val_loss: 0.6606 - val_sparse_categorical_accuracy: 0.7098 - lr: 1.0000e-05 - 276s/epoch - 28ms/step\n",
      "Epoch 18/50\n",
      "\n",
      "Epoch 18: val_loss did not improve from 0.65288\n",
      "9973/9973 - 278s - loss: 0.6466 - sparse_categorical_accuracy: 0.7185 - val_loss: 0.6545 - val_sparse_categorical_accuracy: 0.7162 - lr: 1.0000e-05 - 278s/epoch - 28ms/step\n",
      "Epoch 19/50\n",
      "\n",
      "Epoch 19: val_loss did not improve from 0.65288\n",
      "9973/9973 - 278s - loss: 0.6458 - sparse_categorical_accuracy: 0.7190 - val_loss: 0.6571 - val_sparse_categorical_accuracy: 0.7129 - lr: 1.0000e-05 - 278s/epoch - 28ms/step\n",
      "Epoch 20/50\n",
      "\n",
      "Epoch 20: val_loss did not improve from 0.65288\n",
      "9973/9973 - 297s - loss: 0.6459 - sparse_categorical_accuracy: 0.7189 - val_loss: 0.6555 - val_sparse_categorical_accuracy: 0.7148 - lr: 1.0000e-05 - 297s/epoch - 30ms/step\n",
      "Epoch 21/50\n",
      "Restoring model weights from the end of the best epoch: 16.\n",
      "\n",
      "Epoch 21: val_loss did not improve from 0.65288\n",
      "9973/9973 - 293s - loss: 0.6454 - sparse_categorical_accuracy: 0.7191 - val_loss: 0.6551 - val_sparse_categorical_accuracy: 0.7155 - lr: 1.0000e-05 - 293s/epoch - 29ms/step\n",
      "Epoch 21: early stopping\n",
      "17470/17470 [==============================] - 129s 7ms/step - loss: 0.6540 - sparse_categorical_accuracy: 0.7160\n"
     ]
    },
    {
     "name": "stderr",
     "output_type": "stream",
     "text": [
      "2025-05-28 13:18:36.968783: I tensorflow/core/grappler/optimizers/custom_graph_optimizer_registry.cc:114] Plugin optimizer for device_type GPU is enabled.\n"
     ]
    },
    {
     "name": "stdout",
     "output_type": "stream",
     "text": [
      "17470/17470 [==============================] - 83s 5ms/step\n"
     ]
    },
    {
     "data": {
      "image/png": "[encoded data removed]",
      "text/plain": [
       "<Figure size 640x480 with 2 Axes>"
      ]
     },
     "metadata": {},
     "output_type": "display_data"
    },
    {
     "name": "stdout",
     "output_type": "stream",
     "text": [
      "              precision    recall  f1-score   support\n",
      "\n",
      "           0       1.00      1.00      1.00    111804\n",
      "           1       0.80      0.83      0.81    111804\n",
      "           2       0.58      0.61      0.59    111804\n",
      "           3       0.51      0.47      0.49    111804\n",
      "           4       0.68      0.68      0.68    111804\n",
      "\n",
      "    accuracy                           0.72    559020\n",
      "   macro avg       0.71      0.72      0.71    559020\n",
      "weighted avg       0.71      0.72      0.71    559020\n",
      "\n"
     ]
    }
   ],
   "source": [
    "# source: https://github.com/cauchyturing/UCR_Time_Series_Classification_Deep_Learning_Baseline/blob/master/ResNet.py\n",
    "# 2DCNN layers were replaced with 1DCNN layers and He normal kernel initilization was included\n",
    "\n",
    "#!/usr/bin/env python3\n",
    "# -*- coding: utf-8 -*-\n",
    "# \n",
    "# #!/usr/bin/env python3\n",
    "# -*- coding: utf-8 -*-\n",
    "\"\"\"\n",
    "Created on Sat Nov 12 01:09:17 2016\n",
    "\n",
    "@author: stephen\n",
    "\"\"\"\n",
    "\n",
    "from tensorflow import keras\n",
    "import numpy as np\n",
    "import pandas as pd\n",
    "\n",
    "seed_value= 42  \n",
    "os.environ['PYTHONHASHSEED']=str(seed_value)\n",
    "random.seed(seed_value)\n",
    "np.random.seed(seed_value)\n",
    "tf.compat.v1.set_random_seed(seed_value)\n",
    "session_conf = tf.compat.v1.ConfigProto(intra_op_parallelism_threads=1, inter_op_parallelism_threads=1)\n",
    "sess = tf.compat.v1.Session(graph=tf.compat.v1.get_default_graph(), config=session_conf)\n",
    "tf.compat.v1.keras.backend.set_session(sess)\n",
    "\n",
    "\n",
    "\n",
    "def build_resnet_1d(input_shape, n_feature_maps, nb_classes):\n",
    "    inputs = Input(shape=input_shape)\n",
    "\n",
    "    # Block 1\n",
    "    x = BatchNormalization()(inputs)\n",
    "    x = Conv1D(n_feature_maps, 8, padding='same',kernel_initializer='he_normal' )(x)\n",
    "    x = BatchNormalization()(x)\n",
    "    x = Activation('relu')(x)\n",
    "\n",
    "    x = Conv1D(n_feature_maps, 5, padding='same',kernel_initializer='he_normal')(x)\n",
    "    x = BatchNormalization()(x)\n",
    "    x = Activation('relu')(x)\n",
    "\n",
    "    x = Conv1D(n_feature_maps, 3, padding='same',kernel_initializer='he_normal')(x)\n",
    "    x = BatchNormalization()(x)\n",
    "\n",
    "    shortcut = Conv1D(n_feature_maps, 1, padding='same',kernel_initializer='he_normal')(inputs)\n",
    "    shortcut = BatchNormalization()(shortcut)\n",
    "\n",
    "    x = Add()([shortcut, x])\n",
    "    x = Activation('relu')(x)\n",
    "\n",
    "    # Block 2\n",
    "    x1 = x\n",
    "    x = Conv1D(n_feature_maps * 2, 8, padding='same',kernel_initializer='he_normal')(x1)\n",
    "    x = BatchNormalization()(x)\n",
    "    x = Activation('relu')(x)\n",
    "\n",
    "    x = Conv1D(n_feature_maps * 2, 5, padding='same',kernel_initializer='he_normal')(x)\n",
    "    x = BatchNormalization()(x)\n",
    "    x = Activation('relu')(x)\n",
    "\n",
    "    x = Conv1D(n_feature_maps * 2, 3, padding='same',kernel_initializer='he_normal')(x)\n",
    "    x = BatchNormalization()(x)\n",
    "\n",
    "    shortcut = Conv1D(n_feature_maps * 2, 1, padding='same',kernel_initializer='he_normal')(x1)\n",
    "    shortcut = BatchNormalization()(shortcut)\n",
    "\n",
    "    x = Add()([shortcut, x])\n",
    "    x = Activation('relu')(x)\n",
    "\n",
    "    # Block 3\n",
    "    x1 = x\n",
    "    x = Conv1D(n_feature_maps * 2, 8, padding='same',kernel_initializer='he_normal')(x1)\n",
    "    x = BatchNormalization()(x)\n",
    "    x = Activation('relu')(x)\n",
    "\n",
    "    x = Conv1D(n_feature_maps * 2, 5, padding='same',kernel_initializer='he_normal')(x)\n",
    "    x = BatchNormalization()(x)\n",
    "    x = Activation('relu')(x)\n",
    "\n",
    "    x = Conv1D(n_feature_maps * 2, 3, padding='same',kernel_initializer='he_normal')(x)\n",
    "    x = BatchNormalization()(x)\n",
    "\n",
    "    shortcut = Conv1D(n_feature_maps * 2, 1, padding='same',kernel_initializer='he_normal')(x1)\n",
    "    shortcut = BatchNormalization()(shortcut)\n",
    "\n",
    "    x = Add()([shortcut, x])\n",
    "    x = Activation('relu')(x)\n",
    "\n",
    "    # Output\n",
    "    x = GlobalAveragePooling1D()(x)\n",
    "    output = Dense(nb_classes, activation='softmax')(x)\n",
    "\n",
    "    model = Model(inputs=inputs, outputs=output)\n",
    "    return model\n",
    "\n",
    "\n",
    "\n",
    "\n",
    "# Define the early stopping callback\n",
    "early_stopping = EarlyStopping(patience=5, monitor='val_loss', mode='min', verbose=1, restore_best_weights=True)\n",
    "\n",
    "# initialize callbacks \n",
    "reduceLR =ReduceLROnPlateau(monitor='val_loss', patience=3, verbose= 1, mode='min', factor= 0.2, min_lr = 1e-5) \n",
    "\n",
    "checkpoint = ModelCheckpoint('CustomModel.weights.hdf5', monitor='val_loss', verbose=1,save_best_only=True, mode= 'min') \n",
    "\n",
    "callbacks= [early_stopping, checkpoint, reduceLR]\n",
    "\n",
    "BUFFER_SIZE = len(X_train) #100_000\n",
    "BATCH_SIZE = 256\n",
    "\n",
    "Y_train_rs = Y_train.reshape(-1).astype('int32')\n",
    "Y_val_rs = Y_val.reshape(-1).astype('int32')\n",
    "Y_test_rs = Y_test.reshape(-1).astype('int32')\n",
    "\n",
    "X_train_t = tf.convert_to_tensor(X_train, dtype=tf.float32)\n",
    "Y_train_t = tf.convert_to_tensor(Y_train_rs, dtype=tf.int32)\n",
    "\n",
    "X_val_t = tf.convert_to_tensor(X_val, dtype=tf.float32)\n",
    "Y_val_t = tf.convert_to_tensor(Y_val_rs, dtype=tf.int32)\n",
    "\n",
    "X_test_t = tf.convert_to_tensor(X_test, dtype=tf.float32)\n",
    "Y_test_t = tf.convert_to_tensor(Y_test_rs, dtype=tf.int32)\n",
    "\n",
    "train_ds_t = tf.data.Dataset.from_tensor_slices((X_train_t, Y_train_t))\n",
    "train_ds = train_ds_t.shuffle(BUFFER_SIZE).batch(BATCH_SIZE).prefetch(tf.data.AUTOTUNE)\n",
    "\n",
    "val_ds = tf.data.Dataset.from_tensor_slices((X_val_t, Y_val_t)).batch(BATCH_SIZE)\n",
    "\n",
    "optimizer = tf.keras.optimizers.legacy.Adam(learning_rate=1e-4)\n",
    "\n",
    "# Build and train model\n",
    "model_wang_resnet2 = build_resnet_1d((X_train.shape[1], X_train.shape[2]), 64, 5) \n",
    "model_wang_resnet2.compile(loss='sparse_categorical_crossentropy', optimizer=optimizer, metrics=['sparse_categorical_accuracy'])\n",
    "model_wang_resnet2.fit(train_ds, epochs=50, validation_data=val_ds, callbacks=callbacks, verbose=2)\n",
    "\n",
    "\n",
    "# Evaluation of the model and Confusion Matrix\n",
    "model_wang_resnet2.evaluate(X_test_t, Y_test_t)\n",
    "predictions_model_wang_resnet2 = model_wang_resnet2.predict(X_test_t)\n",
    "y_pred_model_wang_resnet2 = np.argmax(predictions_model_wang_resnet2, axis=1) \n",
    "ConfusionMatrixDisplay.from_predictions(\n",
    "    Y_test_t, y_pred_model_wang_resnet2)\n",
    "plt.show()\n",
    "\n",
    "print(classification_report(Y_test_t, y_pred_model_wang_resnet2))\n",
    "\n",
    "model_wang_resnet2.save(\"model_wang_resnet_MDB_raw.keras\")"
   ]
  }
 ],
 "metadata": {
  "kernelspec": {
   "display_name": "Python 3",
   "language": "python",
   "name": "python3"
  },
  "language_info": {
   "codemirror_mode": {
    "name": "ipython",
    "version": 3
   },
   "file_extension": ".py",
   "mimetype": "text/x-python",
   "name": "python",
   "nbconvert_exporter": "python",
   "pygments_lexer": "ipython3",
   "version": "3.11.4"
  }
 },
 "nbformat": 4,
 "nbformat_minor": 5
}
